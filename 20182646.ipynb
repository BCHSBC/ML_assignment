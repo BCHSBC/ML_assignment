{
 "cells": [
  {
   "cell_type": "code",
   "execution_count": 1,
   "id": "c08afc4c",
   "metadata": {},
   "outputs": [],
   "source": [
    "import pandas as pd\n",
    "import numpy as np\n",
    "import matplotlib.pyplot as plt\n",
    "from scipy.stats import multinomial"
   ]
  },
  {
   "cell_type": "code",
   "execution_count": 2,
   "id": "3395bda8",
   "metadata": {},
   "outputs": [
    {
     "data": {
      "text/html": [
       "<div>\n",
       "<style scoped>\n",
       "    .dataframe tbody tr th:only-of-type {\n",
       "        vertical-align: middle;\n",
       "    }\n",
       "\n",
       "    .dataframe tbody tr th {\n",
       "        vertical-align: top;\n",
       "    }\n",
       "\n",
       "    .dataframe thead th {\n",
       "        text-align: right;\n",
       "    }\n",
       "</style>\n",
       "<table border=\"1\" class=\"dataframe\">\n",
       "  <thead>\n",
       "    <tr style=\"text-align: right;\">\n",
       "      <th></th>\n",
       "      <th>QuestionId</th>\n",
       "      <th>UserId</th>\n",
       "      <th>AnswerId</th>\n",
       "      <th>IsCorrect</th>\n",
       "      <th>CorrectAnswer</th>\n",
       "      <th>AnswerValue</th>\n",
       "    </tr>\n",
       "  </thead>\n",
       "  <tbody>\n",
       "    <tr>\n",
       "      <th>0</th>\n",
       "      <td>898</td>\n",
       "      <td>2111</td>\n",
       "      <td>280203</td>\n",
       "      <td>1</td>\n",
       "      <td>2</td>\n",
       "      <td>2</td>\n",
       "    </tr>\n",
       "    <tr>\n",
       "      <th>1</th>\n",
       "      <td>767</td>\n",
       "      <td>3062</td>\n",
       "      <td>55638</td>\n",
       "      <td>1</td>\n",
       "      <td>3</td>\n",
       "      <td>3</td>\n",
       "    </tr>\n",
       "    <tr>\n",
       "      <th>2</th>\n",
       "      <td>165</td>\n",
       "      <td>1156</td>\n",
       "      <td>386475</td>\n",
       "      <td>1</td>\n",
       "      <td>2</td>\n",
       "      <td>2</td>\n",
       "    </tr>\n",
       "    <tr>\n",
       "      <th>3</th>\n",
       "      <td>490</td>\n",
       "      <td>1653</td>\n",
       "      <td>997498</td>\n",
       "      <td>1</td>\n",
       "      <td>4</td>\n",
       "      <td>4</td>\n",
       "    </tr>\n",
       "    <tr>\n",
       "      <th>4</th>\n",
       "      <td>298</td>\n",
       "      <td>3912</td>\n",
       "      <td>578636</td>\n",
       "      <td>1</td>\n",
       "      <td>3</td>\n",
       "      <td>3</td>\n",
       "    </tr>\n",
       "  </tbody>\n",
       "</table>\n",
       "</div>"
      ],
      "text/plain": [
       "   QuestionId  UserId  AnswerId  IsCorrect  CorrectAnswer  AnswerValue\n",
       "0         898    2111    280203          1              2            2\n",
       "1         767    3062     55638          1              3            3\n",
       "2         165    1156    386475          1              2            2\n",
       "3         490    1653    997498          1              4            4\n",
       "4         298    3912    578636          1              3            3"
      ]
     },
     "execution_count": 2,
     "metadata": {},
     "output_type": "execute_result"
    }
   ],
   "source": [
    "train_data = pd.read_csv('data/train_data/train_task_3_4.csv')\n",
    "train_data.head()"
   ]
  },
  {
   "cell_type": "code",
   "execution_count": 3,
   "id": "f0a7e2ae",
   "metadata": {},
   "outputs": [
    {
     "data": {
      "text/plain": [
       "<Axes: >"
      ]
     },
     "execution_count": 3,
     "metadata": {},
     "output_type": "execute_result"
    },
    {
     "data": {
      "image/png": "[encoded data removed]",
      "text/plain": [
       "<Figure size 640x480 with 1 Axes>"
      ]
     },
     "metadata": {},
     "output_type": "display_data"
    }
   ],
   "source": [
    "answerEntropy = train_data.groupby('QuestionId')['AnswerValue'].apply(lambda x:multinomial.entropy(1, x.value_counts(normalize=True)))\n",
    "answerEntropy.hist()"
   ]
  },
  {
   "cell_type": "code",
   "execution_count": 4,
   "id": "54fe4472",
   "metadata": {},
   "outputs": [
    {
     "data": {
      "text/plain": [
       "<Axes: >"
      ]
     },
     "execution_count": 4,
     "metadata": {},
     "output_type": "execute_result"
    },
    {
     "data": {
      "image/png": "[encoded data removed]",
      "text/plain": [
       "<Figure size 640x480 with 1 Axes>"
      ]
     },
     "metadata": {},
     "output_type": "display_data"
    }
   ],
   "source": [
    "correctEntropy = train_data.groupby('QuestionId')['IsCorrect'].apply(lambda x:multinomial.entropy(1, x.value_counts(normalize=True)))\n",
    "correctEntropy.hist()"
   ]
  },
  {
   "cell_type": "code",
   "execution_count": 5,
   "id": "26703cf3",
   "metadata": {},
   "outputs": [
    {
     "name": "stdout",
     "output_type": "stream",
     "text": [
      "<class 'pandas.core.frame.DataFrame'>\n",
      "RangeIndex: 1508917 entries, 0 to 1508916\n",
      "Data columns (total 6 columns):\n",
      " #   Column          Non-Null Count    Dtype  \n",
      "---  ------          --------------    -----  \n",
      " 0   AnswerId        1508917 non-null  int64  \n",
      " 1   DateAnswered    1508917 non-null  object \n",
      " 2   Confidence      383096 non-null   float64\n",
      " 3   GroupId         1508917 non-null  int64  \n",
      " 4   QuizId          1508917 non-null  int64  \n",
      " 5   SchemeOfWorkId  1365456 non-null  float64\n",
      "dtypes: float64(2), int64(3), object(1)\n",
      "memory usage: 69.1+ MB\n"
     ]
    }
   ],
   "source": [
    "metadata = pd.read_csv('data/metadata/answer_metadata_task_3_4.csv')\n",
    "metadata.info()"
   ]
  },
  {
   "cell_type": "code",
   "execution_count": 6,
   "id": "a0ab2d9f",
   "metadata": {},
   "outputs": [
    {
     "name": "stdout",
     "output_type": "stream",
     "text": [
      "<class 'pandas.core.frame.DataFrame'>\n",
      "RangeIndex: 1382727 entries, 0 to 1382726\n",
      "Data columns (total 11 columns):\n",
      " #   Column          Non-Null Count    Dtype  \n",
      "---  ------          --------------    -----  \n",
      " 0   QuestionId      1382727 non-null  int64  \n",
      " 1   UserId          1382727 non-null  int64  \n",
      " 2   AnswerId        1382727 non-null  int64  \n",
      " 3   IsCorrect       1382727 non-null  int64  \n",
      " 4   CorrectAnswer   1382727 non-null  int64  \n",
      " 5   AnswerValue     1382727 non-null  int64  \n",
      " 6   DateAnswered    1382727 non-null  object \n",
      " 7   Confidence      346428 non-null   float64\n",
      " 8   GroupId         1382727 non-null  int64  \n",
      " 9   QuizId          1382727 non-null  int64  \n",
      " 10  SchemeOfWorkId  1267192 non-null  float64\n",
      "dtypes: float64(2), int64(8), object(1)\n",
      "memory usage: 116.0+ MB\n"
     ]
    }
   ],
   "source": [
    "dataAll = pd.merge(left=train_data,right=metadata,how='inner',on='AnswerId')\n",
    "dataAll.info()"
   ]
  },
  {
   "cell_type": "code",
   "execution_count": 7,
   "id": "70bfc2a7",
   "metadata": {},
   "outputs": [],
   "source": [
    "dataAll['Confidence'] = dataAll['Confidence'].fillna(0)"
   ]
  },
  {
   "cell_type": "code",
   "execution_count": 8,
   "id": "52abdaf9",
   "metadata": {
    "scrolled": true
   },
   "outputs": [
    {
     "data": {
      "text/plain": [
       "<Axes: >"
      ]
     },
     "execution_count": 8,
     "metadata": {},
     "output_type": "execute_result"
    },
    {
     "data": {
      "image/png": "[encoded data removed]",
      "text/plain": [
       "<Figure size 640x480 with 1 Axes>"
      ]
     },
     "metadata": {},
     "output_type": "display_data"
    }
   ],
   "source": [
    "cf = dataAll.groupby('QuestionId')['Confidence'].agg('max')\n",
    "cf.hist()"
   ]
  },
  {
   "cell_type": "code",
   "execution_count": 9,
   "id": "659ba2da",
   "metadata": {},
   "outputs": [],
   "source": [
    "def get_ranking(series,ascending=False):\n",
    "    return series.rank(method='first',ascending=ascending).astype('int16')"
   ]
  },
  {
   "cell_type": "code",
   "execution_count": 10,
   "id": "ec1401dd",
   "metadata": {
    "scrolled": true
   },
   "outputs": [
    {
     "data": {
      "text/html": [
       "<div>\n",
       "<style scoped>\n",
       "    .dataframe tbody tr th:only-of-type {\n",
       "        vertical-align: middle;\n",
       "    }\n",
       "\n",
       "    .dataframe tbody tr th {\n",
       "        vertical-align: top;\n",
       "    }\n",
       "\n",
       "    .dataframe thead th {\n",
       "        text-align: right;\n",
       "    }\n",
       "</style>\n",
       "<table border=\"1\" class=\"dataframe\">\n",
       "  <thead>\n",
       "    <tr style=\"text-align: right;\">\n",
       "      <th></th>\n",
       "      <th>SelectionEntropy</th>\n",
       "      <th>CorrectnessEntropy</th>\n",
       "      <th>Confidence</th>\n",
       "      <th>1+2</th>\n",
       "      <th>1+2+3</th>\n",
       "    </tr>\n",
       "    <tr>\n",
       "      <th>QuestionId</th>\n",
       "      <th></th>\n",
       "      <th></th>\n",
       "      <th></th>\n",
       "      <th></th>\n",
       "      <th></th>\n",
       "    </tr>\n",
       "  </thead>\n",
       "  <tbody>\n",
       "    <tr>\n",
       "      <th>0</th>\n",
       "      <td>484</td>\n",
       "      <td>247</td>\n",
       "      <td>1</td>\n",
       "      <td>391</td>\n",
       "      <td>77</td>\n",
       "    </tr>\n",
       "    <tr>\n",
       "      <th>1</th>\n",
       "      <td>844</td>\n",
       "      <td>293</td>\n",
       "      <td>905</td>\n",
       "      <td>672</td>\n",
       "      <td>813</td>\n",
       "    </tr>\n",
       "    <tr>\n",
       "      <th>2</th>\n",
       "      <td>124</td>\n",
       "      <td>481</td>\n",
       "      <td>2</td>\n",
       "      <td>230</td>\n",
       "      <td>27</td>\n",
       "    </tr>\n",
       "    <tr>\n",
       "      <th>3</th>\n",
       "      <td>908</td>\n",
       "      <td>915</td>\n",
       "      <td>3</td>\n",
       "      <td>919</td>\n",
       "      <td>741</td>\n",
       "    </tr>\n",
       "    <tr>\n",
       "      <th>4</th>\n",
       "      <td>150</td>\n",
       "      <td>405</td>\n",
       "      <td>4</td>\n",
       "      <td>160</td>\n",
       "      <td>14</td>\n",
       "    </tr>\n",
       "    <tr>\n",
       "      <th>...</th>\n",
       "      <td>...</td>\n",
       "      <td>...</td>\n",
       "      <td>...</td>\n",
       "      <td>...</td>\n",
       "      <td>...</td>\n",
       "    </tr>\n",
       "    <tr>\n",
       "      <th>943</th>\n",
       "      <td>780</td>\n",
       "      <td>274</td>\n",
       "      <td>898</td>\n",
       "      <td>636</td>\n",
       "      <td>784</td>\n",
       "    </tr>\n",
       "    <tr>\n",
       "      <th>944</th>\n",
       "      <td>188</td>\n",
       "      <td>938</td>\n",
       "      <td>899</td>\n",
       "      <td>669</td>\n",
       "      <td>807</td>\n",
       "    </tr>\n",
       "    <tr>\n",
       "      <th>945</th>\n",
       "      <td>331</td>\n",
       "      <td>324</td>\n",
       "      <td>900</td>\n",
       "      <td>296</td>\n",
       "      <td>607</td>\n",
       "    </tr>\n",
       "    <tr>\n",
       "      <th>946</th>\n",
       "      <td>397</td>\n",
       "      <td>178</td>\n",
       "      <td>901</td>\n",
       "      <td>185</td>\n",
       "      <td>554</td>\n",
       "    </tr>\n",
       "    <tr>\n",
       "      <th>947</th>\n",
       "      <td>643</td>\n",
       "      <td>489</td>\n",
       "      <td>902</td>\n",
       "      <td>671</td>\n",
       "      <td>811</td>\n",
       "    </tr>\n",
       "  </tbody>\n",
       "</table>\n",
       "<p>948 rows × 5 columns</p>\n",
       "</div>"
      ],
      "text/plain": [
       "            SelectionEntropy  CorrectnessEntropy  Confidence  1+2  1+2+3\n",
       "QuestionId                                                              \n",
       "0                        484                 247           1  391     77\n",
       "1                        844                 293         905  672    813\n",
       "2                        124                 481           2  230     27\n",
       "3                        908                 915           3  919    741\n",
       "4                        150                 405           4  160     14\n",
       "...                      ...                 ...         ...  ...    ...\n",
       "943                      780                 274         898  636    784\n",
       "944                      188                 938         899  669    807\n",
       "945                      331                 324         900  296    607\n",
       "946                      397                 178         901  185    554\n",
       "947                      643                 489         902  671    811\n",
       "\n",
       "[948 rows x 5 columns]"
      ]
     },
     "execution_count": 10,
     "metadata": {},
     "output_type": "execute_result"
    }
   ],
   "source": [
    "ranking_df = pd.DataFrame()\n",
    "ranking_df['SelectionEntropy'] = get_ranking(answerEntropy)\n",
    "ranking_df['CorrectnessEntropy'] = get_ranking(correctEntropy)\n",
    "ranking_df['Confidence'] = get_ranking(cf)\n",
    "df_columns = ranking_df.columns.copy()\n",
    "ranking_df['1+2'] = get_ranking(\n",
    "    ranking_df[df_columns[:2]].mean(axis='columns'), ascending=True\n",
    ")\n",
    "ranking_df['1+2+3'] = get_ranking(\n",
    "    ranking_df[df_columns[:3]].mean(axis='columns'), ascending=True\n",
    ")\n",
    "ranking_df"
   ]
  },
  {
   "cell_type": "code",
   "execution_count": 11,
   "id": "8abcc1f6",
   "metadata": {},
   "outputs": [],
   "source": [
    "def write_file(ranking):\n",
    "    submission_df = pd.read_csv('submission/template.csv')\n",
    "    submission_df['ranking'] = ranking\n",
    "    submission_df.to_csv('submission/template.csv', index=False)"
   ]
  },
  {
   "cell_type": "code",
   "execution_count": 12,
   "id": "64d2e82a",
   "metadata": {},
   "outputs": [
    {
     "name": "stdout",
     "output_type": "stream",
     "text": [
      "25\n"
     ]
    },
    {
     "data": {
      "text/html": [
       "<div>\n",
       "<style scoped>\n",
       "    .dataframe tbody tr th:only-of-type {\n",
       "        vertical-align: middle;\n",
       "    }\n",
       "\n",
       "    .dataframe tbody tr th {\n",
       "        vertical-align: top;\n",
       "    }\n",
       "\n",
       "    .dataframe thead th {\n",
       "        text-align: right;\n",
       "    }\n",
       "</style>\n",
       "<table border=\"1\" class=\"dataframe\">\n",
       "  <thead>\n",
       "    <tr style=\"text-align: right;\">\n",
       "      <th></th>\n",
       "      <th>Unnamed: 0.1</th>\n",
       "      <th>Unnamed: 0</th>\n",
       "      <th>left</th>\n",
       "      <th>right</th>\n",
       "      <th>T1_ALR</th>\n",
       "      <th>T2_CL</th>\n",
       "      <th>T3_GF</th>\n",
       "      <th>T4_MQ</th>\n",
       "      <th>T5_NS</th>\n",
       "    </tr>\n",
       "  </thead>\n",
       "  <tbody>\n",
       "    <tr>\n",
       "      <th>0</th>\n",
       "      <td>0</td>\n",
       "      <td>0</td>\n",
       "      <td>909</td>\n",
       "      <td>318</td>\n",
       "      <td>2</td>\n",
       "      <td>2</td>\n",
       "      <td>2</td>\n",
       "      <td>1.0</td>\n",
       "      <td>2</td>\n",
       "    </tr>\n",
       "    <tr>\n",
       "      <th>1</th>\n",
       "      <td>16</td>\n",
       "      <td>16</td>\n",
       "      <td>285</td>\n",
       "      <td>609</td>\n",
       "      <td>2</td>\n",
       "      <td>2</td>\n",
       "      <td>2</td>\n",
       "      <td>2.0</td>\n",
       "      <td>2</td>\n",
       "    </tr>\n",
       "    <tr>\n",
       "      <th>2</th>\n",
       "      <td>48</td>\n",
       "      <td>48</td>\n",
       "      <td>132</td>\n",
       "      <td>271</td>\n",
       "      <td>1</td>\n",
       "      <td>2</td>\n",
       "      <td>2</td>\n",
       "      <td>2.0</td>\n",
       "      <td>1</td>\n",
       "    </tr>\n",
       "    <tr>\n",
       "      <th>3</th>\n",
       "      <td>38</td>\n",
       "      <td>38</td>\n",
       "      <td>704</td>\n",
       "      <td>127</td>\n",
       "      <td>2</td>\n",
       "      <td>2</td>\n",
       "      <td>1</td>\n",
       "      <td>2.0</td>\n",
       "      <td>2</td>\n",
       "    </tr>\n",
       "    <tr>\n",
       "      <th>4</th>\n",
       "      <td>33</td>\n",
       "      <td>33</td>\n",
       "      <td>16</td>\n",
       "      <td>586</td>\n",
       "      <td>1</td>\n",
       "      <td>1</td>\n",
       "      <td>2</td>\n",
       "      <td>2.0</td>\n",
       "      <td>2</td>\n",
       "    </tr>\n",
       "  </tbody>\n",
       "</table>\n",
       "</div>"
      ],
      "text/plain": [
       "   Unnamed: 0.1  Unnamed: 0  left  right  T1_ALR  T2_CL  T3_GF  T4_MQ  T5_NS\n",
       "0             0           0   909    318       2      2      2    1.0      2\n",
       "1            16          16   285    609       2      2      2    2.0      2\n",
       "2            48          48   132    271       1      2      2    2.0      1\n",
       "3            38          38   704    127       2      2      1    2.0      2\n",
       "4            33          33    16    586       1      1      2    2.0      2"
      ]
     },
     "execution_count": 12,
     "metadata": {},
     "output_type": "execute_result"
    }
   ],
   "source": [
    "# load evaluators' score on \"validation\" set\n",
    "eval_validation = pd.read_csv('data/test_data/quality_response_remapped_public.csv')\n",
    "print(len(eval_validation))\n",
    "eval_validation.head()"
   ]
  },
  {
   "cell_type": "code",
   "execution_count": 13,
   "id": "80f156bb",
   "metadata": {},
   "outputs": [],
   "source": [
    "eval_validation['score'] = eval_validation.filter(regex='^T', axis = 1).mean(axis=1)\n"
   ]
  },
  {
   "cell_type": "code",
   "execution_count": 14,
   "id": "6be89145",
   "metadata": {
    "scrolled": true
   },
   "outputs": [
    {
     "data": {
      "text/plain": [
       "<Axes: >"
      ]
     },
     "execution_count": 14,
     "metadata": {},
     "output_type": "execute_result"
    },
    {
     "data": {
      "image/png": "[encoded data removed]",
      "text/plain": [
       "<Figure size 640x480 with 1 Axes>"
      ]
     },
     "metadata": {},
     "output_type": "display_data"
    }
   ],
   "source": [
    "def calc_preference(scores):\n",
    "    preference = np.ones(len(scores), dtype=int)\n",
    "\n",
    "    idx_two = scores > 1.5\n",
    "    preference[idx_two] = 2\n",
    "    \n",
    "    return list(preference)\n",
    "\n",
    "eval_validation['preference'] = calc_preference(eval_validation['score'])\n",
    "# eval_dev[]\n",
    "# eval_dev['score']\n",
    "eval_validation['score'].hist()"
   ]
  },
  {
   "cell_type": "code",
   "execution_count": 15,
   "id": "4378d545",
   "metadata": {
    "scrolled": true
   },
   "outputs": [
    {
     "name": "stdout",
     "output_type": "stream",
     "text": [
      "25\n"
     ]
    },
    {
     "data": {
      "text/plain": [
       "<Axes: >"
      ]
     },
     "execution_count": 15,
     "metadata": {},
     "output_type": "execute_result"
    },
    {
     "data": {
      "image/png": "[encoded data removed]",
      "text/plain": [
       "<Figure size 640x480 with 1 Axes>"
      ]
     },
     "metadata": {},
     "output_type": "display_data"
    }
   ],
   "source": [
    "eval_test = pd.read_csv('data/test_data/quality_response_remapped_private.csv')\n",
    "print(len(eval_test))\n",
    "eval_test.head()\n",
    "# take the average of scores by 5 evaulators\n",
    "eval_test['score'] = eval_test.filter(regex='^T', axis = 1).mean(axis=1)\n",
    "eval_test['score'].hist()"
   ]
  },
  {
   "cell_type": "code",
   "execution_count": 16,
   "id": "86a5d967",
   "metadata": {},
   "outputs": [],
   "source": [
    "def evaluate(truth, submission):\n",
    "    # extract ranking\n",
    "    left = list(truth.left)\n",
    "    right = list(truth.right)\n",
    "#     if len(left) != len(right):\n",
    "#     message = 'left and right lengths are not the same'\n",
    "#     sys.exit(message)\n",
    "\n",
    "    submission_left = []\n",
    "    submission_right = []\n",
    "    submission_preference = []\n",
    "    for idx in range(len(left)):\n",
    "        submission_left.append(left[idx])\n",
    "        submission_right.append(right[idx])\n",
    "        ranking_left = submission[submission.QuestionId==left[idx]].ranking.values[0]\n",
    "        ranking_right = submission[submission.QuestionId==right[idx]].ranking.values[0]\n",
    "        preference = 1 if ranking_left < ranking_right else 2\n",
    "        submission_preference.append(preference)\n",
    "    return(submission_preference)"
   ]
  },
  {
   "cell_type": "code",
   "execution_count": 17,
   "id": "9203f727",
   "metadata": {},
   "outputs": [],
   "source": [
    "ALR = eval_validation['T1_ALR'].tolist()\n",
    "CL = eval_validation['T2_CL'].tolist()\n",
    "GF = eval_validation['T3_GF'].tolist()\n",
    "MQ = eval_validation['T4_MQ'].tolist()\n",
    "NS = eval_validation['T5_NS'].tolist()\n",
    "ALL = eval_validation['preference'].tolist()"
   ]
  },
  {
   "cell_type": "code",
   "execution_count": 18,
   "id": "5c09db90",
   "metadata": {},
   "outputs": [],
   "source": [
    "def getScore(A,B):\n",
    "    same = 0\n",
    "    for idx in range(len(A)):\n",
    "        if A[idx] == B[idx]:\n",
    "            same = same + 1\n",
    "    return same/len(A)"
   ]
  },
  {
   "cell_type": "code",
   "execution_count": 19,
   "id": "48c3f429",
   "metadata": {},
   "outputs": [],
   "source": [
    "ranking_df_columns = ranking_df.columns\n",
    "result_df = pd.DataFrame()"
   ]
  },
  {
   "cell_type": "code",
   "execution_count": 23,
   "id": "5006a8b0",
   "metadata": {},
   "outputs": [],
   "source": [
    "def result(f,input_data):\n",
    "    write_file(ranking_df[f])\n",
    "    template = pd.read_csv('submission/template.csv')\n",
    "    a = evaluate(input_data, template)\n",
    "    alr = getScore(a,ALR)\n",
    "    cl = getScore(a,CL)\n",
    "    gf = getScore(a,GF)\n",
    "    mq = getScore(a,MQ)\n",
    "    ns = getScore(a,NS)\n",
    "    al = getScore(a,ALL)\n",
    "    dic = {'ALR': alr,'CL':cl,'GF':gf,'MQ':mq,'NS':ns,'ALL':al}\n",
    "    result_df[f] = dic"
   ]
  },
  {
   "cell_type": "code",
   "execution_count": 27,
   "id": "5d86dda6",
   "metadata": {},
   "outputs": [
    {
     "data": {
      "text/html": [
       "<div>\n",
       "<style scoped>\n",
       "    .dataframe tbody tr th:only-of-type {\n",
       "        vertical-align: middle;\n",
       "    }\n",
       "\n",
       "    .dataframe tbody tr th {\n",
       "        vertical-align: top;\n",
       "    }\n",
       "\n",
       "    .dataframe thead th {\n",
       "        text-align: right;\n",
       "    }\n",
       "</style>\n",
       "<table border=\"1\" class=\"dataframe\">\n",
       "  <thead>\n",
       "    <tr style=\"text-align: right;\">\n",
       "      <th></th>\n",
       "      <th>SelectionEntropy</th>\n",
       "      <th>CorrectnessEntropy</th>\n",
       "      <th>Confidence</th>\n",
       "      <th>1+2</th>\n",
       "      <th>1+2+3</th>\n",
       "    </tr>\n",
       "  </thead>\n",
       "  <tbody>\n",
       "    <tr>\n",
       "      <th>ALR</th>\n",
       "      <td>0.72</td>\n",
       "      <td>0.72</td>\n",
       "      <td>0.60</td>\n",
       "      <td>0.68</td>\n",
       "      <td>0.76</td>\n",
       "    </tr>\n",
       "    <tr>\n",
       "      <th>CL</th>\n",
       "      <td>0.76</td>\n",
       "      <td>0.84</td>\n",
       "      <td>0.72</td>\n",
       "      <td>0.80</td>\n",
       "      <td>0.88</td>\n",
       "    </tr>\n",
       "    <tr>\n",
       "      <th>GF</th>\n",
       "      <td>0.76</td>\n",
       "      <td>0.68</td>\n",
       "      <td>0.48</td>\n",
       "      <td>0.72</td>\n",
       "      <td>0.72</td>\n",
       "    </tr>\n",
       "    <tr>\n",
       "      <th>MQ</th>\n",
       "      <td>0.64</td>\n",
       "      <td>0.56</td>\n",
       "      <td>0.44</td>\n",
       "      <td>0.60</td>\n",
       "      <td>0.60</td>\n",
       "    </tr>\n",
       "    <tr>\n",
       "      <th>NS</th>\n",
       "      <td>0.64</td>\n",
       "      <td>0.64</td>\n",
       "      <td>0.52</td>\n",
       "      <td>0.60</td>\n",
       "      <td>0.68</td>\n",
       "    </tr>\n",
       "    <tr>\n",
       "      <th>ALL</th>\n",
       "      <td>0.84</td>\n",
       "      <td>0.76</td>\n",
       "      <td>0.56</td>\n",
       "      <td>0.80</td>\n",
       "      <td>0.80</td>\n",
       "    </tr>\n",
       "  </tbody>\n",
       "</table>\n",
       "</div>"
      ],
      "text/plain": [
       "     SelectionEntropy  CorrectnessEntropy  Confidence   1+2  1+2+3\n",
       "ALR              0.72                0.72        0.60  0.68   0.76\n",
       "CL               0.76                0.84        0.72  0.80   0.88\n",
       "GF               0.76                0.68        0.48  0.72   0.72\n",
       "MQ               0.64                0.56        0.44  0.60   0.60\n",
       "NS               0.64                0.64        0.52  0.60   0.68\n",
       "ALL              0.84                0.76        0.56  0.80   0.80"
      ]
     },
     "execution_count": 27,
     "metadata": {},
     "output_type": "execute_result"
    }
   ],
   "source": [
    "for i in ranking_df_columns:\n",
    "    result(i,eval_validation)\n",
    "result_df"
   ]
  },
  {
   "cell_type": "code",
   "execution_count": 28,
   "id": "6dbf3857",
   "metadata": {},
   "outputs": [
    {
     "data": {
      "text/html": [
       "<div>\n",
       "<style scoped>\n",
       "    .dataframe tbody tr th:only-of-type {\n",
       "        vertical-align: middle;\n",
       "    }\n",
       "\n",
       "    .dataframe tbody tr th {\n",
       "        vertical-align: top;\n",
       "    }\n",
       "\n",
       "    .dataframe thead th {\n",
       "        text-align: right;\n",
       "    }\n",
       "</style>\n",
       "<table border=\"1\" class=\"dataframe\">\n",
       "  <thead>\n",
       "    <tr style=\"text-align: right;\">\n",
       "      <th></th>\n",
       "      <th>SelectionEntropy</th>\n",
       "      <th>CorrectnessEntropy</th>\n",
       "      <th>Confidence</th>\n",
       "      <th>1+2</th>\n",
       "      <th>1+2+3</th>\n",
       "    </tr>\n",
       "  </thead>\n",
       "  <tbody>\n",
       "    <tr>\n",
       "      <th>ALR</th>\n",
       "      <td>0.44</td>\n",
       "      <td>0.44</td>\n",
       "      <td>0.52</td>\n",
       "      <td>0.36</td>\n",
       "      <td>0.36</td>\n",
       "    </tr>\n",
       "    <tr>\n",
       "      <th>CL</th>\n",
       "      <td>0.40</td>\n",
       "      <td>0.48</td>\n",
       "      <td>0.56</td>\n",
       "      <td>0.40</td>\n",
       "      <td>0.40</td>\n",
       "    </tr>\n",
       "    <tr>\n",
       "      <th>GF</th>\n",
       "      <td>0.40</td>\n",
       "      <td>0.40</td>\n",
       "      <td>0.64</td>\n",
       "      <td>0.32</td>\n",
       "      <td>0.40</td>\n",
       "    </tr>\n",
       "    <tr>\n",
       "      <th>MQ</th>\n",
       "      <td>0.28</td>\n",
       "      <td>0.44</td>\n",
       "      <td>0.52</td>\n",
       "      <td>0.44</td>\n",
       "      <td>0.36</td>\n",
       "    </tr>\n",
       "    <tr>\n",
       "      <th>NS</th>\n",
       "      <td>0.52</td>\n",
       "      <td>0.36</td>\n",
       "      <td>0.60</td>\n",
       "      <td>0.36</td>\n",
       "      <td>0.60</td>\n",
       "    </tr>\n",
       "    <tr>\n",
       "      <th>ALL</th>\n",
       "      <td>0.32</td>\n",
       "      <td>0.40</td>\n",
       "      <td>0.56</td>\n",
       "      <td>0.32</td>\n",
       "      <td>0.32</td>\n",
       "    </tr>\n",
       "  </tbody>\n",
       "</table>\n",
       "</div>"
      ],
      "text/plain": [
       "     SelectionEntropy  CorrectnessEntropy  Confidence   1+2  1+2+3\n",
       "ALR              0.44                0.44        0.52  0.36   0.36\n",
       "CL               0.40                0.48        0.56  0.40   0.40\n",
       "GF               0.40                0.40        0.64  0.32   0.40\n",
       "MQ               0.28                0.44        0.52  0.44   0.36\n",
       "NS               0.52                0.36        0.60  0.36   0.60\n",
       "ALL              0.32                0.40        0.56  0.32   0.32"
      ]
     },
     "execution_count": 28,
     "metadata": {},
     "output_type": "execute_result"
    }
   ],
   "source": [
    "for i in ranking_df_columns:\n",
    "    result(i,eval_test)\n",
    "result_df"
   ]
  },
  {
   "cell_type": "code",
   "execution_count": null,
   "id": "d13634f3",
   "metadata": {},
   "outputs": [],
   "source": []
  }
 ],
 "metadata": {
  "kernelspec": {
   "display_name": "Python 3 (ipykernel)",
   "language": "python",
   "name": "python3"
  },
  "language_info": {
   "codemirror_mode": {
    "name": "ipython",
    "version": 3
   },
   "file_extension": ".py",
   "mimetype": "text/x-python",
   "name": "python",
   "nbconvert_exporter": "python",
   "pygments_lexer": "ipython3",
   "version": "3.9.6"
  }
 },
 "nbformat": 4,
 "nbformat_minor": 5
}
